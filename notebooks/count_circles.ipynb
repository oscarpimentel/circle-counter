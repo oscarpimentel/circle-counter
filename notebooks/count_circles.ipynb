{
 "cells": [
  {
   "cell_type": "code",
   "execution_count": null,
   "metadata": {},
   "outputs": [],
   "source": [
    "import sys; sys.path.extend([\"..\"])\n",
    "\n",
    "import json\n",
    "import os\n",
    "\n",
    "import cv2\n",
    "import numpy as np\n",
    "import matplotlib.colors\n",
    "import matplotlib.pyplot as plt\n",
    "\n",
    "from utils import resize_image, get_image_filtered_by_color, get_circle_centers"
   ]
  },
  {
   "cell_type": "code",
   "execution_count": null,
   "metadata": {},
   "outputs": [],
   "source": [
    "colors_filedir = '../config.json'\n",
    "image_filedir = '../data/output.png'\n",
    "drawing_radius = 30\n",
    "font = cv2.FONT_HERSHEY_SIMPLEX\n",
    "font_scale = 0.5\n",
    "thickness = 2"
   ]
  },
  {
   "cell_type": "code",
   "execution_count": null,
   "metadata": {},
   "outputs": [],
   "source": [
    "original = cv2.imread(image_filedir)\n",
    "original = resize_image(original, 0.5)\n",
    "\n",
    "drawing = cv2.cvtColor(original, cv2.COLOR_BGR2GRAY)[:, :, None]\n",
    "drawing = np.repeat(drawing, 3, axis=-1)\n",
    "drawing = cv2.convertScaleAbs(drawing, alpha=5, beta=100)\n",
    "\n",
    "with open(colors_filedir) as f:\n",
    "  datas = json.load(f)\n",
    "\n",
    "image_filename = os.path.splitext(os.path.split(image_filedir)[1])[0]\n",
    "save_path = os.path.join('../save', image_filename)\n",
    "\n",
    "for name in datas.keys():\n",
    "    hex_color = datas[name]['hex_color']\n",
    "    os.makedirs(f'{save_path}/{name}', exist_ok=True)\n",
    "    bgr_color = tuple([int(c * 255) for c in matplotlib.colors.to_rgb(hex_color)])[::-1]\n",
    "    new_image = get_image_filtered_by_color(original, bgr_color)\n",
    "    filedir = f'{save_path}/{name}/new_image.png'\n",
    "    print(filedir)\n",
    "    cv2.imwrite(filedir, new_image)\n",
    "    centers = get_circle_centers(new_image)\n",
    "    datas[name]['nof_circles'] = len(centers)\n",
    "    for k, center in enumerate(centers):\n",
    "        cv2.circle(drawing, center, drawing_radius, bgr_color, -1)\n",
    "        cv2.putText(drawing, f'{k}', center, font, font_scale, (0, 0, 0), thickness, cv2.LINE_AA)\n",
    "\n",
    "# sort\n",
    "names = [name for name in datas.keys()]\n",
    "values = [datas[name]['nof_circles'] for name in datas.keys()]\n",
    "idxs = np.argsort(values)[::-1]\n",
    "datas = {names[idx]: datas[names[idx]] for idx in idxs}\n",
    "\n",
    "filedir = f'{save_path}/drawing.png'\n",
    "print(filedir)\n",
    "cv2.imwrite(filedir, drawing)\n",
    "\n",
    "total_nof_circles = sum([datas[name]['nof_circles'] for name in datas.keys()])\n",
    "print(f'total_nof_circles={total_nof_circles}')\n",
    "for name in datas.keys():\n",
    "    hex_color = datas[name]['hex_color']\n",
    "    nof_circles = datas[name]['nof_circles']\n",
    "    print(f'\\t{name} hex_color={hex_color}; nof_circles={nof_circles} ({nof_circles/total_nof_circles*100:.3f}%)')\n",
    "\n",
    "\n",
    "fig, ax = plt.subplots(1, 1, figsize=(20, 20))\n",
    "ax.imshow(cv2.cvtColor(drawing, cv2.COLOR_BGR2RGB))\n",
    "ax.axis('off')\n",
    "plt.show()"
   ]
  },
  {
   "cell_type": "code",
   "execution_count": null,
   "metadata": {},
   "outputs": [],
   "source": []
  }
 ],
 "metadata": {
  "kernelspec": {
   "display_name": "zzz",
   "language": "python",
   "name": "python3"
  },
  "language_info": {
   "codemirror_mode": {
    "name": "ipython",
    "version": 3
   },
   "file_extension": ".py",
   "mimetype": "text/x-python",
   "name": "python",
   "nbconvert_exporter": "python",
   "pygments_lexer": "ipython3",
   "version": "3.9.0"
  }
 },
 "nbformat": 4,
 "nbformat_minor": 2
}
